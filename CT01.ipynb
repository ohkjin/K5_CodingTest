{
  "nbformat": 4,
  "nbformat_minor": 0,
  "metadata": {
    "colab": {
      "provenance": [],
      "authorship_tag": "ABX9TyMesOI1xmcwY39ant1NpimC",
      "include_colab_link": true
    },
    "kernelspec": {
      "name": "python3",
      "display_name": "Python 3"
    },
    "language_info": {
      "name": "python"
    }
  },
  "cells": [
    {
      "cell_type": "markdown",
      "metadata": {
        "id": "view-in-github",
        "colab_type": "text"
      },
      "source": [
        "<a href=\"https://colab.research.google.com/github/ohkjin/K5_CodingTest/blob/main/CT01.ipynb\" target=\"_parent\"><img src=\"https://colab.research.google.com/assets/colab-badge.svg\" alt=\"Open In Colab\"/></a>"
      ]
    },
    {
      "cell_type": "code",
      "execution_count": null,
      "metadata": {
        "id": "yQEjxk_lG1Uc"
      },
      "outputs": [],
      "source": []
    },
    {
      "cell_type": "markdown",
      "source": [
        "##그리디"
      ],
      "metadata": {
        "id": "J4185nhZR1Hw"
      }
    },
    {
      "cell_type": "markdown",
      "source": [
        "####[예제3-1] 거스름돈\n",
        "- 거스름돈 500,100,50,10\n",
        "- N원일 때, 동전의 최소 개수\n",
        "- N은 반드시 10의 배수!"
      ],
      "metadata": {
        "id": "AjPVEUB4R3mg"
      }
    },
    {
      "cell_type": "code",
      "source": [
        "#1. N 입력 받아야 함\n",
        "#2. 500 -> 100, 50,10 순으로 개별 동저의 최대를 구해야함\n",
        "#3. 개별 동전의 최대의 합이 최소\n",
        "\n",
        "#case1)\n",
        "#Case2) if  N>500..:복잡하니 포기\n",
        "#Case3) 케이스를 여러가지 따져보기(시간내에 실수 없이 풀어야함)\n",
        "\n",
        "## 초기화\n",
        "N = 1260\n",
        "coin_count = 0\n",
        "coin_types = [500,100,50,10]\n",
        "\n",
        "for coin in coin_types:\n",
        "  coin_count += (N//coin)\n",
        "  N %= coin\n",
        "N\n",
        "\n",
        "##출력\n",
        "coin_count\n",
        "\n",
        "\n",
        "\n"
      ],
      "metadata": {
        "colab": {
          "base_uri": "https://localhost:8080/"
        },
        "id": "dziIaoZWS5Q5",
        "outputId": "9008a2f8-6795-4d7b-b64f-9a434ac52876"
      },
      "execution_count": null,
      "outputs": [
        {
          "output_type": "execute_result",
          "data": {
            "text/plain": [
              "6"
            ]
          },
          "metadata": {},
          "execution_count": 20
        }
      ]
    },
    {
      "cell_type": "code",
      "source": [
        "#개인 트라이\n",
        "r=input(\"총 거스름돈\")\n",
        "for i in [500,100,50,10]:\n",
        "  if r==0:\n",
        "    break\n",
        "  elif r>=i:#i는 list i[]\n",
        "    coin[i] = r//i##중간중간 확인 필요\n",
        "    r%=i\n",
        "\n",
        "print(f\"{coin[0]}\")\n"
      ],
      "metadata": {
        "colab": {
          "base_uri": "https://localhost:8080/",
          "height": 273
        },
        "id": "Qx7xN6BgVqkp",
        "outputId": "69c00191-7afe-4f81-8560-ce49260fcc0c"
      },
      "execution_count": null,
      "outputs": [
        {
          "name": "stdout",
          "output_type": "stream",
          "text": [
            "총 거스름돈1260\n"
          ]
        },
        {
          "output_type": "error",
          "ename": "TypeError",
          "evalue": "ignored",
          "traceback": [
            "\u001b[0;31m---------------------------------------------------------------------------\u001b[0m",
            "\u001b[0;31mTypeError\u001b[0m                                 Traceback (most recent call last)",
            "\u001b[0;32m<ipython-input-3-1174018a0df3>\u001b[0m in \u001b[0;36m<cell line: 3>\u001b[0;34m()\u001b[0m\n\u001b[1;32m      4\u001b[0m   \u001b[0;32mif\u001b[0m \u001b[0mr\u001b[0m\u001b[0;34m==\u001b[0m\u001b[0;36m0\u001b[0m\u001b[0;34m:\u001b[0m\u001b[0;34m\u001b[0m\u001b[0;34m\u001b[0m\u001b[0m\n\u001b[1;32m      5\u001b[0m     \u001b[0;32mbreak\u001b[0m\u001b[0;34m\u001b[0m\u001b[0;34m\u001b[0m\u001b[0m\n\u001b[0;32m----> 6\u001b[0;31m   \u001b[0;32melif\u001b[0m \u001b[0mr\u001b[0m\u001b[0;34m>=\u001b[0m\u001b[0mi\u001b[0m\u001b[0;34m:\u001b[0m\u001b[0;34m\u001b[0m\u001b[0;34m\u001b[0m\u001b[0m\n\u001b[0m\u001b[1;32m      7\u001b[0m     \u001b[0mcoin\u001b[0m\u001b[0;34m[\u001b[0m\u001b[0mi\u001b[0m\u001b[0;34m]\u001b[0m \u001b[0;34m=\u001b[0m \u001b[0mr\u001b[0m\u001b[0;34m//\u001b[0m\u001b[0mi\u001b[0m\u001b[0;34m\u001b[0m\u001b[0;34m\u001b[0m\u001b[0m\n\u001b[1;32m      8\u001b[0m     \u001b[0mr\u001b[0m\u001b[0;34m%=\u001b[0m\u001b[0mi\u001b[0m\u001b[0;34m\u001b[0m\u001b[0;34m\u001b[0m\u001b[0m\n",
            "\u001b[0;31mTypeError\u001b[0m: '>=' not supported between instances of 'str' and 'int'"
          ]
        }
      ]
    },
    {
      "cell_type": "code",
      "source": [
        "#에러 후 개인 트라이\n",
        "coin=[500,100,50,10]\n",
        "coin_count=[]\n",
        "r=int(input(\"총 거스름돈\")) #그냥 input 은 String\n",
        "for i in coin:\n",
        "  if r==0:\n",
        "    break\n",
        "  elif r>=coin[i]:#i는 list i[]\n",
        "    print(r)\n",
        "  #    coin_count[i] = r//i##중간중간 확인 필요\n",
        "  #    r%=i\n",
        "  # else:\n",
        "  #   continue\n",
        "\n",
        "print(f\"{coin[0]}\")\n"
      ],
      "metadata": {
        "colab": {
          "base_uri": "https://localhost:8080/",
          "height": 273
        },
        "id": "g-_9KGU9ZfeX",
        "outputId": "cc9c8132-461b-4e16-d4ac-5e61111b90a6"
      },
      "execution_count": null,
      "outputs": [
        {
          "name": "stdout",
          "output_type": "stream",
          "text": [
            "총 거스름돈1260\n"
          ]
        },
        {
          "output_type": "error",
          "ename": "IndexError",
          "evalue": "ignored",
          "traceback": [
            "\u001b[0;31m---------------------------------------------------------------------------\u001b[0m",
            "\u001b[0;31mIndexError\u001b[0m                                Traceback (most recent call last)",
            "\u001b[0;32m<ipython-input-24-c8839242f5f3>\u001b[0m in \u001b[0;36m<cell line: 5>\u001b[0;34m()\u001b[0m\n\u001b[1;32m      6\u001b[0m   \u001b[0;32mif\u001b[0m \u001b[0mr\u001b[0m\u001b[0;34m==\u001b[0m\u001b[0;36m0\u001b[0m\u001b[0;34m:\u001b[0m\u001b[0;34m\u001b[0m\u001b[0;34m\u001b[0m\u001b[0m\n\u001b[1;32m      7\u001b[0m     \u001b[0;32mbreak\u001b[0m\u001b[0;34m\u001b[0m\u001b[0;34m\u001b[0m\u001b[0m\n\u001b[0;32m----> 8\u001b[0;31m   \u001b[0;32melif\u001b[0m \u001b[0mr\u001b[0m\u001b[0;34m>=\u001b[0m\u001b[0mcoin\u001b[0m\u001b[0;34m[\u001b[0m\u001b[0mi\u001b[0m\u001b[0;34m]\u001b[0m\u001b[0;34m:\u001b[0m\u001b[0;31m#i는 list i[]\u001b[0m\u001b[0;34m\u001b[0m\u001b[0;34m\u001b[0m\u001b[0m\n\u001b[0m\u001b[1;32m      9\u001b[0m     \u001b[0mprint\u001b[0m\u001b[0;34m(\u001b[0m\u001b[0mr\u001b[0m\u001b[0;34m)\u001b[0m\u001b[0;34m\u001b[0m\u001b[0;34m\u001b[0m\u001b[0m\n\u001b[1;32m     10\u001b[0m   \u001b[0;31m#    coin_count[i] = r//i##중간중간 확인 필요\u001b[0m\u001b[0;34m\u001b[0m\u001b[0;34m\u001b[0m\u001b[0m\n",
            "\u001b[0;31mIndexError\u001b[0m: list index out of range"
          ]
        }
      ]
    },
    {
      "cell_type": "markdown",
      "source": [
        "####[예제]큰 수의 법칙\n"
      ],
      "metadata": {
        "id": "Z1YOQtFgcqrd"
      }
    },
    {
      "cell_type": "code",
      "source": [
        "#init_data:\n",
        "n,m,k = (5,8,3)\n",
        "data = [2,4,5,2,7]\n",
        "\n",
        "##초기화\n",
        "#n,m,k = map(int,input().split()) # 한줄 밑에쓰기\n",
        "#data = list(map(int,input().split()))\n",
        "\n",
        "data.sort() #오름차순\n",
        "first = data[n-1]\n",
        "second = data[n-2]\n",
        "result=0\n",
        "\n",
        "##알고리즘\n",
        "while True:\n",
        "  for i in range(k):\n",
        "    if m == 0:\n",
        "      break\n",
        "    result = result + first\n",
        "    m = m-1\n",
        "  if m == 0:\n",
        "    break\n",
        "  result += second\n",
        "  m = m-1\n",
        "\n",
        "##결과출력\n",
        "result"
      ],
      "metadata": {
        "colab": {
          "base_uri": "https://localhost:8080/"
        },
        "id": "ta_X4gxOcul2",
        "outputId": "0062d4be-8170-436e-cfad-fe2e31f97a49"
      },
      "execution_count": null,
      "outputs": [
        {
          "name": "stdout",
          "output_type": "stream",
          "text": [
            "5 4 3\n",
            " 1 2 3 4 5\n"
          ]
        },
        {
          "output_type": "execute_result",
          "data": {
            "text/plain": [
              "19"
            ]
          },
          "metadata": {},
          "execution_count": 27
        }
      ]
    },
    {
      "cell_type": "code",
      "source": [
        "# 수업 후 개인 트라이\n",
        "\n",
        "n,m,k = map(int,input().split())\n",
        "data = list(map(int,input().split()))\n",
        "result = 0\n",
        "\n",
        "data.sort()\n",
        "first= data[n-1]\n",
        "second= data[n-2]\n",
        "\n",
        "m //k\n",
        "\n",
        "print(result)"
      ],
      "metadata": {
        "id": "ixM19USmik60"
      },
      "execution_count": null,
      "outputs": []
    },
    {
      "cell_type": "markdown",
      "source": [
        "####[예제]숫자 카드 게임\n",
        "nlogo(n)"
      ],
      "metadata": {
        "id": "1-33JetrorhZ"
      }
    },
    {
      "cell_type": "code",
      "source": [
        "##초기화\n",
        "data = [\n",
        "    [3,1,2],\n",
        "    [2,1,4],\n",
        "    [2,2,2]\n",
        "]\n",
        "n,m= len(data), len(data[0])\n",
        "n,m\n",
        "result = 0\n",
        "\n",
        "##알고리즘\n",
        "for i in data: # 행을 일단 들고옴 [],[],[] list type을 들고옴\n",
        "#2중 for문을 돌때 첫 for문의 타입을 대략 알아야함\n",
        "\n",
        "  min_value= 10001\n",
        "  for j in i:\n",
        " #   min_value = min(min_value,j)\n",
        " # print(f\"min value:{min_value}\")\n",
        " # result=max(result, min_value)\n",
        "    result= max(result,min(i)) # min(1,2,3,4)=1\n",
        "#축약 알고리즘\n",
        "\n",
        "result"
      ],
      "metadata": {
        "colab": {
          "base_uri": "https://localhost:8080/"
        },
        "id": "0t6NkDlpr2c3",
        "outputId": "a7c1e8f3-19cd-44a0-96e3-6fa160aff370"
      },
      "execution_count": null,
      "outputs": [
        {
          "output_type": "execute_result",
          "data": {
            "text/plain": [
              "2"
            ]
          },
          "metadata": {},
          "execution_count": 41
        }
      ]
    },
    {
      "cell_type": "markdown",
      "source": [
        "####[예제]1이 될 때까지\n"
      ],
      "metadata": {
        "id": "nC4dvX9Ozg3V"
      }
    },
    {
      "cell_type": "code",
      "source": [
        "##초기화\n",
        "n,k = (25,25)\n",
        "num = 0\n",
        "\n",
        "##알고리즘\n",
        "while n>= k:\n",
        "  while n%k != 0:\n",
        "    n = n-1\n",
        "    num += 1\n",
        "  n //= k\n",
        "  num +=1\n",
        "\n",
        "while n > 1:\n",
        "  n= n-1\n",
        "  num+=1\n",
        "\n",
        "##결과\n",
        "num"
      ],
      "metadata": {
        "colab": {
          "base_uri": "https://localhost:8080/"
        },
        "id": "apV9Cgei0OVL",
        "outputId": "f6753425-4377-441d-c9c1-c75b4200e0cb"
      },
      "execution_count": null,
      "outputs": [
        {
          "output_type": "execute_result",
          "data": {
            "text/plain": [
              "1"
            ]
          },
          "metadata": {},
          "execution_count": 45
        }
      ]
    }
  ]
}